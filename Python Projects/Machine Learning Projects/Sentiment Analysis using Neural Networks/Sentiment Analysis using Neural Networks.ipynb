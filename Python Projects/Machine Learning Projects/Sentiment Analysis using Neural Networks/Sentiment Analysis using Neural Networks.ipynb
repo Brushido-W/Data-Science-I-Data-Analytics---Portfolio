{
 "cells": [
  {
   "cell_type": "markdown",
   "metadata": {
    "colab_type": "text",
    "id": "eHGm8RQlK46m"
   },
   "source": [
    "## Sentiment Analysis using Neural Networks\n",
    "\n",
    "This Project focuses on implementing a basic form of Natural Language Processing (NLP) known as Sentiment Analysis. The objective is to develop two distinct neural networks using Keras to classify book reviews as either positive or negative.\n",
    "\n",
    "The challenge lies in accurately identifying the sentiment of a review, even when the sentiment is negated or nuanced. For instance, consider the example review: \"This book is not very good.\" Although the phrase \"very good\" appears at the end, indicating a positive sentiment, the presence of the negation term \"not\" reverses the sentiment, making it negative. Our task is to train the neural networks to recognize and classify such nuanced distinctions effectively.\n",
    "\n",
    "To accomplish this, the project can be divided into the following key steps:\n",
    "\n",
    "1. **Get and explore dataset**: Obtain a suitable dataset consisting of book reviews for training and evaluation purposes.\n",
    "\n",
    "2. **Preprocess the Data**: Prepare the dataset by applying necessary preprocessing techniques such as tokenization, normalization, and removing stopwords.\n",
    "\n",
    "3. **Build the Model**: Construct two different neural network architectures using the Keras framework, each with its unique configuration.\n",
    "\n",
    "4. **Train the Model**: Train the neural networks using the preprocessed dataset to learn the patterns and sentiments associated with the book reviews.\n",
    "\n",
    "5. **Test the Model**: Evaluate the performance of the trained models by testing them on a separate set of book reviews.\n",
    "\n",
    "6. **Make Predictions**: Utilize the trained models to predict sentiments for new, unseen book reviews and assess their accuracy.\n",
    "\n",
    "By following these steps, we aim to develop a robust sentiment analysis system capable of accurately classifying book reviews as positive or negative. The project allows for a comparative analysis of the two neural network models, providing insights into their respective performances.\n",
    "\n",
    "Please refer to the project documentation and code for detailed instructions on dataset acquisition, data preprocessing, model building, training, testing, and making predictions."
   ]
  },
  {
   "cell_type": "markdown",
   "metadata": {},
   "source": [
    "# Get and explore dataset"
   ]
  },
  {
   "cell_type": "code",
   "execution_count": 2,
   "metadata": {
    "colab": {},
    "colab_type": "code",
    "id": "-erlYw1jXtgh"
   },
   "outputs": [],
   "source": [
    "# Importing the necessary libraries and modules\n",
    "import matplotlib.pyplot as plt\n",
    "from matplotlib import pyplot\n",
    "import numpy as np\n",
    "import re\n",
    "from sklearn.model_selection import train_test_split\n",
    "from keras.preprocessing.sequence import pad_sequences"
   ]
  },
  {
   "cell_type": "code",
   "execution_count": 3,
   "metadata": {
    "colab": {},
    "colab_type": "code",
    "id": "goZIhX8nII4T"
   },
   "outputs": [],
   "source": [
    "# Make results reproducible - set random seed\n",
    "from numpy.random import seed\n",
    "seed(42)"
   ]
  },
  {
   "cell_type": "code",
   "execution_count": 4,
   "metadata": {
    "colab": {},
    "colab_type": "code",
    "id": "v_fEysQHII4W",
    "tags": []
   },
   "outputs": [],
   "source": [
    "# Defining the file paths for negative and positive files\n",
    "negative_file = \"negative.txt\"\n",
    "positive_file = \"positive.txt\""
   ]
  },
  {
   "cell_type": "code",
   "execution_count": 5,
   "metadata": {
    "colab": {},
    "colab_type": "code",
    "id": "0rWm4yycII4Y",
    "tags": []
   },
   "outputs": [],
   "source": [
    "#helper function to load and preprocess data\n",
    "def filter_words(line):    \n",
    "    line = re.sub(r'[^\\w\\s]','',line.rstrip())\n",
    "    words = line.split(\" \") \n",
    "    words = [i.lower() for i in words if i]      \n",
    "    return \" \".join(words)\n",
    "\n",
    "def load_data(filename):\n",
    "    thefile = open(filename, 'r') \n",
    "    lines = thefile.readlines() \n",
    "\n",
    "    data = []\n",
    "    for l in range(0,len(lines)): \n",
    "        if(lines[l-1].strip() == \"<title>\"): \n",
    "            theline = filter_words(lines[l])\n",
    "            if(len(theline) < 50):\n",
    "                data.append(theline)            \n",
    "            \n",
    "    return data\n",
    "\n",
    "# Helper function to convert categorical data to class label\n",
    "def to_word_label(y):\n",
    "    y = to_class(y)   \n",
    "    return [\"positive\" if i==0 else \"negative\" for i in y]\n",
    "\n",
    "# Helper function to convert class label to numeric label\n",
    "def to_numeric_label(y):\n",
    "  return [0 if i==\"positive\" else 1 for i in word_labels]\n",
    "\n",
    "# Helper function: this function needs to be called before sending arrays to sklearn metrics,\n",
    "# it converts back to class form from categorical form. ie: [1,0] --> 0, [0,1] --> 1\n",
    "def to_class(y):\n",
    "    return np.argmax(y,axis=1) "
   ]
  },
  {
   "cell_type": "code",
   "execution_count": 6,
   "metadata": {
    "colab": {
     "base_uri": "https://localhost:8080/",
     "height": 70
    },
    "colab_type": "code",
    "id": "jjGUiFm9II4b",
    "outputId": "aa5eb89b-85f2-4d61-f33a-b00361b19a41",
    "tags": []
   },
   "outputs": [
    {
     "name": "stdout",
     "output_type": "stream",
     "text": [
      "['one of the best crichton novels', 'the medicine of the future', 'beautiful', 'for lovers of robicheaux', 'a good book', 'to the point and beautifully illustrated', 'at least somebody has got it', 'beautifully written heartwarming story', 'an excellent cookbook full of delicious recipes', 'an outstanding resource']\n",
      "['horrible book horrible', 'shallow selfindulgence', 'horrible book horrible', 'disappointment', 'a disappointing mess', 'save your money there are better books out there', 'thank you but no thanks', 'unendurable', 'the hard way', 'some good info among the political commercial']\n"
     ]
    }
   ],
   "source": [
    "# Loading data from the positive and negative files\n",
    "positive = load_data(positive_file)\n",
    "negative = load_data(negative_file)\n",
    "\n",
    "# Printing the first 10 elements from the positive and negative data\n",
    "print(positive[0:10])\n",
    "print(negative[0:10])"
   ]
  },
  {
   "cell_type": "code",
   "execution_count": 7,
   "metadata": {
    "colab": {},
    "colab_type": "code",
    "id": "yrgEYOOCII4d",
    "tags": []
   },
   "outputs": [],
   "source": [
    "# Combines the positive and negative reviews into a single list and create labels\n",
    "data = positive + negative\n",
    "word_labels = [\"positive\"] * len(positive) + [\"negative\"] * len(negative) \n",
    "\n",
    "# Converts labels to numbers in one-hot encoding - [1, 0] (positive) or [0, 1] (negative)\n",
    "from tensorflow.keras.utils import to_categorical\n",
    "labels  = to_categorical(to_numeric_label(word_labels))"
   ]
  },
  {
   "cell_type": "code",
   "execution_count": 8,
   "metadata": {
    "colab": {},
    "colab_type": "code",
    "id": "97Uh2uBpII4l",
    "tags": []
   },
   "outputs": [
    {
     "name": "stdout",
     "output_type": "stream",
     "text": [
      "Total number of negative reviews 921\n",
      "Total number of positive reviews 872\n",
      "Total number of reviews 1793\n"
     ]
    }
   ],
   "source": [
    "# Investigate the dataset. \n",
    "# Counting the number of non-empty lines in the negative data\n",
    "count = 0\n",
    "for line in negative:\n",
    "    if line != \"/n\":\n",
    "        count += 1\n",
    "\n",
    "# Counting the number of non-empty lines in the positive data\n",
    "count1 = 0\n",
    "for lines in positive:\n",
    "    if lines != \"/n\":\n",
    "        count1 += 1\n",
    "\n",
    "# Printing the total number of negative reviews, positive reviews, and all reviews\n",
    "print(\"Total number of negative reviews:\", count)\n",
    "print(\"Total number of positive reviews:\", count1)\n",
    "print(\"Total number of reviews:\", count + count1)\n"
   ]
  },
  {
   "cell_type": "code",
   "execution_count": 9,
   "metadata": {},
   "outputs": [
    {
     "name": "stdout",
     "output_type": "stream",
     "text": [
      "Mean = 30.965\n",
      "Standard Deviation = 17.016567126726507 \n"
     ]
    },
    {
     "data": {
      "image/png": "[encoded data removed]",
      "text/plain": [
       "<Figure size 432x288 with 1 Axes>"
      ]
     },
     "metadata": {
      "needs_background": "light"
     },
     "output_type": "display_data"
    }
   ],
   "source": [
    "# Calculate and report the mean review size, its standard deviation and create a boxplot.\n",
    "\n",
    "def load_data_rating(filename):\n",
    "    # Opening the file in read mode\n",
    "    thefile = open(filename, 'r') \n",
    "\n",
    "    # Reading all lines from the file\n",
    "    lines = thefile.readlines() \n",
    "\n",
    "    # Initializing an empty list to store the ratings\n",
    "    rating = []\n",
    "\n",
    "    # Looping through each line in the file\n",
    "    for l in range(0, len(lines)):\n",
    "        # Checking if the current line is \"<rating>\"\n",
    "        if lines[l - 1].strip() == \"<rating>\":\n",
    "            # Extracting the rating value and filtering out unnecessary words\n",
    "            theline = filter_words(lines[l])\n",
    "            if len(theline) < 50:\n",
    "                rating.append(theline)\n",
    "\n",
    "    # Returning the list of ratings\n",
    "    return rating\n",
    "\n",
    "# Loading ratings from the positive and negative files\n",
    "positive_rating = load_data_rating(positive_file)\n",
    "negative_rating = load_data_rating(negative_file)\n",
    "\n",
    "# Combining the positive and negative ratings into a single list\n",
    "rating = positive_rating + negative_rating\n",
    "\n",
    "# Converting each rating to an integer\n",
    "for i in range(0, len(rating)):\n",
    "    rating[i] = int(rating[i])\n",
    "\n",
    "# Importing the statistics module for further analysis\n",
    "import statistics\n",
    "\n",
    "# Calculating the mean and standard deviation of the ratings\n",
    "mean = statistics.mean(rating)\n",
    "std_dev = statistics.stdev(rating)\n",
    "\n",
    "# Printing the calculated mean and standard deviation\n",
    "print(\"Mean =\", mean)\n",
    "print(\"Standard Deviation =\", std_dev)\n",
    "\n",
    "# Creating a box plot to visualize the distribution of ratings\n",
    "plt.boxplot(rating)\n",
    "plt.title(\"Box plot of all ratings\")\n",
    "plt.ylabel(\"Rating score\")\n",
    "plt.xlabel(\"\")\n",
    "plt.show()"
   ]
  },
  {
   "cell_type": "code",
   "execution_count": 10,
   "metadata": {},
   "outputs": [
    {
     "data": {
      "text/plain": [
       "1730"
      ]
     },
     "execution_count": 10,
     "metadata": {},
     "output_type": "execute_result"
    }
   ],
   "source": [
    "# Calculate the number of unique words in the dataset\n",
    "\n",
    "# split the sentences into a list\n",
    "data1 = \" \".join(data).split(\" \")\n",
    "\n",
    "# get all the unique words\n",
    "unique_words=[]\n",
    "for i in data1:\n",
    "     if data1.count(i)==1:\n",
    "         if i not in unique_words:\n",
    "             unique_words.append(i)\n",
    " \n",
    "# calculate length of unique words\n",
    "len(unique_words)"
   ]
  },
  {
   "cell_type": "code",
   "execution_count": 11,
   "metadata": {},
   "outputs": [
    {
     "name": "stdout",
     "output_type": "stream",
     "text": [
      "There are 7776 words in the reviews\n",
      "There are 6046 duplicate words\n"
     ]
    }
   ],
   "source": [
    "# Perform any other dataset investigation that you feel would be valuable\n",
    "\n",
    "# Printing the number of words in the reviews\n",
    "print(\"There are\", len(data1), \"words in the reviews\")\n",
    "\n",
    "# Calculating the number of duplicate words\n",
    "duplicate = len(data1) - len(unique_words)\n",
    "print(\"There are\", duplicate, \"duplicate words\")"
   ]
  },
  {
   "cell_type": "code",
   "execution_count": 12,
   "metadata": {
    "colab": {
     "base_uri": "https://localhost:8080/",
     "height": 50
    },
    "colab_type": "code",
    "id": "_XXnArgcII4i",
    "outputId": "020b2ee2-4c2a-4bc0-bb55-e2ae3841fe57",
    "tags": []
   },
   "outputs": [
    {
     "name": "stdout",
     "output_type": "stream",
     "text": [
      "['one of the best crichton novels', 'the medicine of the future', 'beautiful', 'for lovers of robicheaux', 'a good book']\n",
      "[[18, 4, 2, 19], [2, 4, 2], [], [6, 4], [1, 12, 3]]\n"
     ]
    }
   ],
   "source": [
    "# Tokenize the vocabulary \n",
    "from keras.preprocessing.text import Tokenizer\n",
    "\n",
    "# Creating a Tokenizer object with a specified maximum number of words\n",
    "tokenizer = Tokenizer(num_words=25)\n",
    "\n",
    "# Creating the vocabulary by fitting the Tokenizer on the data\n",
    "tokenizer.fit_on_texts(data)\n",
    "\n",
    "# Tokenizing the data using the created vocabulary\n",
    "tokenized_data = tokenizer.texts_to_sequences(data)\n",
    "\n",
    "# Calculating the vocabulary size\n",
    "vocab_size = len(tokenizer.word_index) + 1\n",
    "\n",
    "# Comparing a sample of the data before and after tokenization\n",
    "print(data[0:5])\n",
    "print(tokenized_data[0:5])"
   ]
  },
  {
   "cell_type": "markdown",
   "metadata": {
    "colab_type": "text",
    "id": "_vsMmLjdK1Gf"
   },
   "source": [
    "# Preprocess the Data"
   ]
  },
  {
   "cell_type": "code",
   "execution_count": 138,
   "metadata": {
    "colab": {},
    "colab_type": "code",
    "id": "24DaXd1zII4q",
    "tags": []
   },
   "outputs": [
    {
     "data": {
      "text/plain": [
       "array([[  2,  19, 492, 493],\n",
       "       [830,   4,   2, 831],\n",
       "       [131,   0,   0,   0],\n",
       "       ...,\n",
       "       [ 86,   0,   0,   0],\n",
       "       [  6, 226,   0,   0],\n",
       "       [ 45,  52,   0,   0]])"
      ]
     },
     "execution_count": 138,
     "metadata": {},
     "output_type": "execute_result"
    }
   ],
   "source": [
    "from keras.preprocessing.sequence import pad_sequences\n",
    "import tensorflow as tf\n",
    "\n",
    "# Padding the sequences using pad_sequences\n",
    "padded_sentences = pad_sequences(data, maxlen=4, padding=\"post\")\n",
    "\n",
    "# Displaying the padded sentences\n",
    "print(padded_sentences)"
   ]
  },
  {
   "cell_type": "markdown",
   "metadata": {},
   "source": [
    "# Build the Model"
   ]
  },
  {
   "cell_type": "code",
   "execution_count": 137,
   "metadata": {},
   "outputs": [],
   "source": [
    "# Creating the x and y data for the train-test set\n",
    "pos = []\n",
    "for i in range(len(positive)):\n",
    "    pos.append([1, 0])\n",
    "pos = np.array(pos)\n",
    "\n",
    "neg = []\n",
    "for i in range(len(negative)):\n",
    "    neg.append([0, 1])\n",
    "neg = np.array(neg)\n",
    "\n",
    "combine = (pos, neg)\n",
    "\n",
    "# Creating the y_data by concatenating the positive and negative labels\n",
    "y_data = np.concatenate(combine)\n",
    "\n",
    "# Creating the X_data by padding the tokenized data with a maximum length of 1680\n",
    "X_data = pad_sequences(tokenized_data, maxlen=1680, padding=\"post\")"
   ]
  },
  {
   "cell_type": "code",
   "execution_count": 298,
   "metadata": {},
   "outputs": [
    {
     "name": "stdout",
     "output_type": "stream",
     "text": [
      "X_train shape = (1434, 1680)\n",
      "Y_train shape = (1434, 2)\n"
     ]
    }
   ],
   "source": [
    "# Splitting the data into training and testing sets\n",
    "X_train, X_test, y_train, y_test = train_test_split(X_data, y_data, test_size=0.20, random_state=0, shuffle=True)\n",
    "\n",
    "# Printing the shape of the training and testing data\n",
    "print(\"X_train shape =\", X_train.shape)\n",
    "print(\"Y_train shape =\", y_train.shape)"
   ]
  },
  {
   "cell_type": "markdown",
   "metadata": {},
   "source": [
    "Making a prediction for the test set given the model\n",
    "Create reports for precision, recall and f1 score. Also print the confusion matrix. "
   ]
  },
  {
   "cell_type": "code",
   "execution_count": 302,
   "metadata": {
    "colab": {
     "base_uri": "https://localhost:8080/",
     "height": 128
    },
    "colab_type": "code",
    "id": "lDth1BSzII4u",
    "outputId": "4614049a-7151-4407-9bc8-54604bbe7fdd"
   },
   "outputs": [
    {
     "name": "stdout",
     "output_type": "stream",
     "text": [
      "precision score: 0.504178\n",
      "recall score: 1.000000\n",
      "F1 score: 0.670370\n",
      "\n",
      "\n"
     ]
    },
    {
     "data": {
      "text/plain": [
       "array([[  0, 178],\n",
       "       [  0, 181]], dtype=int64)"
      ]
     },
     "execution_count": 302,
     "metadata": {},
     "output_type": "execute_result"
    }
   ],
   "source": [
    "from sklearn.metrics import confusion_matrix, precision_score, recall_score, f1_score\n",
    "\n",
    "def assess_model(model, X_test, y_test):\n",
    "    # Predicting labels for the test data\n",
    "    y_pred = model.predict(X_test)\n",
    "    \n",
    "    # Converting the predicted probabilities to class labels\n",
    "    y_pred = to_class(y_pred)\n",
    "    y_test = to_class(y_test)\n",
    "    \n",
    "    return y_pred, y_test\n",
    "\n",
    "# Assessing the model's performance\n",
    "y_pred, y_test = assess_model(model, X_test, y_test)\n",
    "\n",
    "# Calculating precision, recall, and F1 score\n",
    "precision = precision_score(y_test, y_pred)\n",
    "print('Precision score: %f' % precision)\n",
    "\n",
    "recall = recall_score(y_test, y_pred)\n",
    "print('Recall score: %f' % recall)\n",
    "\n",
    "f1 = f1_score(y_test, y_pred)\n",
    "print('F1 score: %f' % f1)\n",
    "\n",
    "print(\"\\n\")\n",
    "\n",
    "# Calculating and displaying the confusion matrix\n",
    "cm = confusion_matrix(y_test, y_pred)\n",
    "cm"
   ]
  },
  {
   "cell_type": "markdown",
   "metadata": {
    "colab_type": "text",
    "id": "3X70rA4uMXNv"
   },
   "source": [
    "# Network architecture"
   ]
  },
  {
   "cell_type": "markdown",
   "metadata": {
    "colab": {},
    "colab_type": "code",
    "id": "wKoXWKG4II5F"
   },
   "source": [
    "Network architecturethe way in which a deep learning model is structured and more importantly what it’s designed to do, it can be used to determine The model’s accuracy, what the model can predict, what the model expects as input and output and the combination of layers and how data flows through the layers."
   ]
  },
  {
   "cell_type": "markdown",
   "metadata": {
    "colab_type": "text",
    "id": "llS0-VKBMbz-"
   },
   "source": [
    "# Train the Model"
   ]
  },
  {
   "cell_type": "code",
   "execution_count": 328,
   "metadata": {
    "colab": {},
    "colab_type": "code",
    "id": "F5IJs0QuMe_I"
   },
   "outputs": [
    {
     "name": "stdout",
     "output_type": "stream",
     "text": [
      "Model: \"sequential_20\"\n",
      "_________________________________________________________________\n",
      " Layer (type)                Output Shape              Param #   \n",
      "=================================================================\n",
      " embedding_18 (Embedding)    (None, None, 16)          40960     \n",
      "                                                                 \n",
      " dropout_14 (Dropout)        (None, None, 16)          0         \n",
      "                                                                 \n",
      " batch_normalization_13 (Bat  (None, None, 16)         64        \n",
      " chNormalization)                                                \n",
      "                                                                 \n",
      " lstm_11 (LSTM)              (None, 32)                6272      \n",
      "                                                                 \n",
      " dense_10 (Dense)            (None, 2)                 66        \n",
      "                                                                 \n",
      "=================================================================\n",
      "Total params: 47,362\n",
      "Trainable params: 47,330\n",
      "Non-trainable params: 32\n",
      "_________________________________________________________________\n"
     ]
    }
   ],
   "source": [
    "# Build a neural network model\n",
    "import tensorflow\n",
    "from tensorflow import keras\n",
    "\n",
    "from keras.layers.embeddings import Embedding \n",
    "from tensorflow.keras import layers\n",
    "\n",
    "output_dim = 16\n",
    "\n",
    "# Create a sequential model\n",
    "model = keras.Sequential()\n",
    "\n",
    "# Add an embedding layer\n",
    "model.add(Embedding(vocab_size, output_dim))\n",
    "\n",
    "# Add a dropout layer\n",
    "model.add(layers.Dropout(0.3))\n",
    "\n",
    "# Add a batch normalization layer\n",
    "model.add(layers.BatchNormalization())\n",
    "\n",
    "# Add an LSTM layer\n",
    "model.add(layers.LSTM(32))\n",
    "\n",
    "# Add a dense layer with softmax activation\n",
    "model.add(layers.Dense(2, activation='softmax'))\n",
    "\n",
    "# Print the model summary\n",
    "model.summary()\n"
   ]
  },
  {
   "cell_type": "code",
   "execution_count": 329,
   "metadata": {},
   "outputs": [],
   "source": [
    "# Compile the model\n",
    "model.compile(optimizer=\"adam\", loss=\"binary_crossentropy\", metrics=[\"accuracy\"])"
   ]
  },
  {
   "cell_type": "markdown",
   "metadata": {
    "colab_type": "text",
    "id": "rniBBEiyMRKD"
   },
   "source": [
    "# Test the Model\n",
    "\n",
    "Examine performance of model"
   ]
  },
  {
   "cell_type": "code",
   "execution_count": 327,
   "metadata": {
    "colab": {},
    "colab_type": "code",
    "id": "eBVogHg2II5T",
    "tags": []
   },
   "outputs": [
    {
     "name": "stdout",
     "output_type": "stream",
     "text": [
      "Epoch 1/5\n",
      "144/144 [==============================] - 104s 724ms/step - loss: 0.6932 - accuracy: 0.5056\n",
      "Epoch 2/5\n",
      "144/144 [==============================] - 106s 734ms/step - loss: 0.6941 - accuracy: 0.5049\n",
      "Epoch 3/5\n",
      "144/144 [==============================] - 107s 745ms/step - loss: 0.6935 - accuracy: 0.5153\n",
      "Epoch 4/5\n",
      "144/144 [==============================] - 104s 725ms/step - loss: 0.6925 - accuracy: 0.5202\n",
      "Epoch 5/5\n",
      "144/144 [==============================] - 111s 772ms/step - loss: 0.6932 - accuracy: 0.5132\n"
     ]
    },
    {
     "data": {
      "text/plain": [
       "<keras.callbacks.History at 0x1ee94aaa2b0>"
      ]
     },
     "execution_count": 327,
     "metadata": {},
     "output_type": "execute_result"
    }
   ],
   "source": [
    "# Train the model\n",
    "history = model.fit(X_train, y_train, epochs=5, batch_size=10)\n",
    "history"
   ]
  },
  {
   "cell_type": "markdown",
   "metadata": {
    "colab_type": "text",
    "id": "HB8kzt-IME4U"
   },
   "source": [
    "Plot graphs for accuracy and loss"
   ]
  },
  {
   "cell_type": "code",
   "execution_count": 323,
   "metadata": {
    "colab": {},
    "colab_type": "code",
    "id": "hPyJ78unMJUI"
   },
   "outputs": [
    {
     "data": {
      "image/png": "[encoded data removed]",
      "text/plain": [
       "<Figure size 432x288 with 1 Axes>"
      ]
     },
     "metadata": {
      "needs_background": "light"
     },
     "output_type": "display_data"
    },
    {
     "data": {
      "image/png": "[encoded data removed]",
      "text/plain": [
       "<Figure size 432x288 with 1 Axes>"
      ]
     },
     "metadata": {
      "needs_background": "light"
     },
     "output_type": "display_data"
    }
   ],
   "source": [
    "# Plotting the training accuracy over epochs\n",
    "acc = history.history['accuracy']\n",
    "epochs = range(1, 6)\n",
    "plt.plot(epochs, acc)\n",
    "plt.title('Accuracy')\n",
    "plt.xlabel('Epochs')\n",
    "plt.ylabel('Accuracy')\n",
    "plt.show()\n",
    "\n",
    "# Plotting the training loss over epochs\n",
    "loss = history.history['loss']\n",
    "epochs = range(1, 6)\n",
    "plt.plot(epochs, loss)\n",
    "plt.title('Loss')\n",
    "plt.xlabel('Epochs')\n",
    "plt.ylabel('Loss')\n",
    "plt.show()"
   ]
  },
  {
   "cell_type": "markdown",
   "metadata": {
    "colab_type": "text",
    "id": "eAZ1LyFBMLoK"
   },
   "source": [
    "# Make a prediction"
   ]
  },
  {
   "cell_type": "code",
   "execution_count": 340,
   "metadata": {
    "colab": {},
    "colab_type": "code",
    "id": "vfPM5LokII5V",
    "tags": []
   },
   "outputs": [
    {
     "data": {
      "text/plain": [
       "['negative', 'negative', 'negative', 'negative', 'negative']"
      ]
     },
     "execution_count": 340,
     "metadata": {},
     "output_type": "execute_result"
    }
   ],
   "source": [
    "# This is a very small set of completed new data to use to make predictions.\n",
    "# all coments will be negetive\n",
    "prediction_data = [\"this book is awful\", \"i hated this book\", \"the worst\", \"no good\", \"okay\"]\n",
    "tokenized = tokenizer.texts_to_sequences(prediction_data)\n",
    "padded = pad_sequences(tokenized, padding='post', maxlen=4)\n",
    "\n",
    "# Make predictions using the model\n",
    "predictions = model.predict(padded)\n",
    "\n",
    "# Convert predictions to word labels using the \"to_word_label\" helper function\n",
    "predictions = to_word_label(predictions)\n",
    "\n",
    "# Print the predicted labels\n",
    "# preditions should all be negetive\n",
    "predictions\n"
   ]
  },
  {
   "cell_type": "code",
   "execution_count": null,
   "metadata": {},
   "outputs": [],
   "source": []
  }
 ],
 "metadata": {
  "colab": {
   "collapsed_sections": [],
   "name": "L3T20.ipynb",
   "provenance": []
  },
  "kernelspec": {
   "display_name": "Python 3 (ipykernel)",
   "language": "python",
   "name": "python3"
  },
  "language_info": {
   "codemirror_mode": {
    "name": "ipython",
    "version": 3
   },
   "file_extension": ".py",
   "mimetype": "text/x-python",
   "name": "python",
   "nbconvert_exporter": "python",
   "pygments_lexer": "ipython3",
   "version": "3.9.13"
  }
 },
 "nbformat": 4,
 "nbformat_minor": 1
}
