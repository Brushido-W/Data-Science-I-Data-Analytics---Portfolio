{
 "cells": [
  {
   "cell_type": "code",
   "execution_count": 1,
   "id": "57c2b70d",
   "metadata": {},
   "outputs": [
    {
     "data": {
      "text/html": [
       "<div>\n",
       "<style scoped>\n",
       "    .dataframe tbody tr th:only-of-type {\n",
       "        vertical-align: middle;\n",
       "    }\n",
       "\n",
       "    .dataframe tbody tr th {\n",
       "        vertical-align: top;\n",
       "    }\n",
       "\n",
       "    .dataframe thead th {\n",
       "        text-align: right;\n",
       "    }\n",
       "</style>\n",
       "<table border=\"1\" class=\"dataframe\">\n",
       "  <thead>\n",
       "    <tr style=\"text-align: right;\">\n",
       "      <th></th>\n",
       "      <th>PassengerId</th>\n",
       "      <th>Survived</th>\n",
       "      <th>Pclass</th>\n",
       "      <th>Name</th>\n",
       "      <th>Sex</th>\n",
       "      <th>Age</th>\n",
       "      <th>SibSp</th>\n",
       "      <th>Parch</th>\n",
       "      <th>Ticket</th>\n",
       "      <th>Fare</th>\n",
       "      <th>Cabin</th>\n",
       "      <th>Embarked</th>\n",
       "    </tr>\n",
       "  </thead>\n",
       "  <tbody>\n",
       "    <tr>\n",
       "      <th>0</th>\n",
       "      <td>1</td>\n",
       "      <td>0</td>\n",
       "      <td>3</td>\n",
       "      <td>Braund, Mr. Owen Harris</td>\n",
       "      <td>male</td>\n",
       "      <td>22.0</td>\n",
       "      <td>1</td>\n",
       "      <td>0</td>\n",
       "      <td>A/5 21171</td>\n",
       "      <td>7.2500</td>\n",
       "      <td>NaN</td>\n",
       "      <td>S</td>\n",
       "    </tr>\n",
       "    <tr>\n",
       "      <th>1</th>\n",
       "      <td>2</td>\n",
       "      <td>1</td>\n",
       "      <td>1</td>\n",
       "      <td>Cumings, Mrs. John Bradley (Florence Briggs Th...</td>\n",
       "      <td>female</td>\n",
       "      <td>38.0</td>\n",
       "      <td>1</td>\n",
       "      <td>0</td>\n",
       "      <td>PC 17599</td>\n",
       "      <td>71.2833</td>\n",
       "      <td>C85</td>\n",
       "      <td>C</td>\n",
       "    </tr>\n",
       "    <tr>\n",
       "      <th>2</th>\n",
       "      <td>3</td>\n",
       "      <td>1</td>\n",
       "      <td>3</td>\n",
       "      <td>Heikkinen, Miss. Laina</td>\n",
       "      <td>female</td>\n",
       "      <td>26.0</td>\n",
       "      <td>0</td>\n",
       "      <td>0</td>\n",
       "      <td>STON/O2. 3101282</td>\n",
       "      <td>7.9250</td>\n",
       "      <td>NaN</td>\n",
       "      <td>S</td>\n",
       "    </tr>\n",
       "    <tr>\n",
       "      <th>3</th>\n",
       "      <td>4</td>\n",
       "      <td>1</td>\n",
       "      <td>1</td>\n",
       "      <td>Futrelle, Mrs. Jacques Heath (Lily May Peel)</td>\n",
       "      <td>female</td>\n",
       "      <td>35.0</td>\n",
       "      <td>1</td>\n",
       "      <td>0</td>\n",
       "      <td>113803</td>\n",
       "      <td>53.1000</td>\n",
       "      <td>C123</td>\n",
       "      <td>S</td>\n",
       "    </tr>\n",
       "    <tr>\n",
       "      <th>4</th>\n",
       "      <td>5</td>\n",
       "      <td>0</td>\n",
       "      <td>3</td>\n",
       "      <td>Allen, Mr. William Henry</td>\n",
       "      <td>male</td>\n",
       "      <td>35.0</td>\n",
       "      <td>0</td>\n",
       "      <td>0</td>\n",
       "      <td>373450</td>\n",
       "      <td>8.0500</td>\n",
       "      <td>NaN</td>\n",
       "      <td>S</td>\n",
       "    </tr>\n",
       "  </tbody>\n",
       "</table>\n",
       "</div>"
      ],
      "text/plain": [
       "   PassengerId  Survived  Pclass  \\\n",
       "0            1         0       3   \n",
       "1            2         1       1   \n",
       "2            3         1       3   \n",
       "3            4         1       1   \n",
       "4            5         0       3   \n",
       "\n",
       "                                                Name     Sex   Age  SibSp  \\\n",
       "0                            Braund, Mr. Owen Harris    male  22.0      1   \n",
       "1  Cumings, Mrs. John Bradley (Florence Briggs Th...  female  38.0      1   \n",
       "2                             Heikkinen, Miss. Laina  female  26.0      0   \n",
       "3       Futrelle, Mrs. Jacques Heath (Lily May Peel)  female  35.0      1   \n",
       "4                           Allen, Mr. William Henry    male  35.0      0   \n",
       "\n",
       "   Parch            Ticket     Fare Cabin Embarked  \n",
       "0      0         A/5 21171   7.2500   NaN        S  \n",
       "1      0          PC 17599  71.2833   C85        C  \n",
       "2      0  STON/O2. 3101282   7.9250   NaN        S  \n",
       "3      0            113803  53.1000  C123        S  \n",
       "4      0            373450   8.0500   NaN        S  "
      ]
     },
     "execution_count": 1,
     "metadata": {},
     "output_type": "execute_result"
    }
   ],
   "source": [
    "#Import all necessary libraries\n",
    "import pandas as pd\n",
    "import numpy as np\n",
    "from scipy import stats\n",
    "import seaborn as sns\n",
    "import matplotlib.pyplot as plt\n",
    " \n",
    "\n",
    "\n",
    "titanic = pd.read_csv(\"Titanic.csv\")\n",
    "titanic.head()"
   ]
  },
  {
   "cell_type": "markdown",
   "id": "018438de",
   "metadata": {},
   "source": [
    "## Check for null values "
   ]
  },
  {
   "cell_type": "code",
   "execution_count": 60,
   "id": "76ae08b9",
   "metadata": {},
   "outputs": [
    {
     "data": {
      "text/plain": [
       "Text(0.5, 1.0, 'Heatmap of null values in csv file')"
      ]
     },
     "execution_count": 60,
     "metadata": {},
     "output_type": "execute_result"
    },
    {
     "data": {
      "image/png": "[encoded data removed]",
      "text/plain": [
       "<Figure size 432x288 with 1 Axes>"
      ]
     },
     "metadata": {
      "needs_background": "light"
     },
     "output_type": "display_data"
    }
   ],
   "source": [
    "#using the seaborn library to plot a heatmap for all null values\n",
    "sns.heatmap(titanic.isnull(),yticklabels=False,cbar=False,cmap='viridis')\n",
    "plt.title(\"Heatmap of null values in csv file\")"
   ]
  },
  {
   "cell_type": "markdown",
   "id": "4d33eec8",
   "metadata": {},
   "source": [
    "After running the above visualization we see that this data contains many null values. Fortunately these null values are onlu found on 2 columns. Namely Age and Cabin."
   ]
  },
  {
   "cell_type": "code",
   "execution_count": 59,
   "id": "6b856bda",
   "metadata": {},
   "outputs": [
    {
     "data": {
      "text/plain": [
       "Text(0.5, 1.0, 'Histplot shwoing distribution of Age')"
      ]
     },
     "execution_count": 59,
     "metadata": {},
     "output_type": "execute_result"
    },
    {
     "data": {
      "image/png": "[encoded data removed]",
      "text/plain": [
       "<Figure size 432x288 with 1 Axes>"
      ]
     },
     "metadata": {
      "needs_background": "light"
     },
     "output_type": "display_data"
    }
   ],
   "source": [
    "#A histogram graph of the age range of people on the titanic\n",
    "sns.histplot(titanic[\"Age\"].dropna(), bins=30)\n",
    "plt.title(\"Histplot shwoing distribution of Age\")"
   ]
  },
  {
   "cell_type": "markdown",
   "id": "526c90b1",
   "metadata": {},
   "source": [
    "This graph shows us that there are many people between the ages of 18 and 30, with the highest age group being\n",
    "23-24."
   ]
  },
  {
   "cell_type": "code",
   "execution_count": 57,
   "id": "22de9fd7",
   "metadata": {},
   "outputs": [
    {
     "data": {
      "text/plain": [
       "Text(0.5, 1.0, 'Boxplot shwoing distribution of Age')"
      ]
     },
     "execution_count": 57,
     "metadata": {},
     "output_type": "execute_result"
    },
    {
     "data": {
      "image/png": "[encoded data removed]",
      "text/plain": [
       "<Figure size 432x288 with 1 Axes>"
      ]
     },
     "metadata": {
      "needs_background": "light"
     },
     "output_type": "display_data"
    }
   ],
   "source": [
    "sns.boxplot(x=\"Age\", data=titanic)\n",
    "plt.title(\"Boxplot shwoing distribution of Age\")"
   ]
  },
  {
   "cell_type": "markdown",
   "id": "003bb496",
   "metadata": {},
   "source": [
    "The above box blot shows us the mojority of people are between the ages of 20 and just under 40. The box plot also shows us a few outliers with the highest one with an age of about 80 years."
   ]
  },
  {
   "cell_type": "code",
   "execution_count": 56,
   "id": "6778f06f",
   "metadata": {},
   "outputs": [
    {
     "data": {
      "text/plain": [
       "Text(0.5, 1.0, 'Countplot of survival rate')"
      ]
     },
     "execution_count": 56,
     "metadata": {},
     "output_type": "execute_result"
    },
    {
     "data": {
      "image/png": "[encoded data removed]",
      "text/plain": [
       "<Figure size 432x288 with 1 Axes>"
      ]
     },
     "metadata": {
      "needs_background": "light"
     },
     "output_type": "display_data"
    }
   ],
   "source": [
    "# countplot of survival rate\n",
    "sns.countplot(x=\"Survived\", data=titanic)\n",
    "plt.title(\"Countplot of survival rate\")"
   ]
  },
  {
   "cell_type": "markdown",
   "id": "0165a241",
   "metadata": {},
   "source": [
    "The above plot shows us how many people have survived.<br>\n",
    "0 = people who have not survived<br>\n",
    "1 = people who survived\n",
    "<br><br>\n",
    "This bar graph shows us that many people died during the titanic, more than 55%."
   ]
  },
  {
   "cell_type": "code",
   "execution_count": 54,
   "id": "9132c027",
   "metadata": {},
   "outputs": [
    {
     "data": {
      "text/plain": [
       "Text(0.5, 1.0, 'Count plot of survival rate based on Gender')"
      ]
     },
     "execution_count": 54,
     "metadata": {},
     "output_type": "execute_result"
    },
    {
     "data": {
      "image/png": "[encoded data removed]",
      "text/plain": [
       "<Figure size 432x288 with 1 Axes>"
      ]
     },
     "metadata": {
      "needs_background": "light"
     },
     "output_type": "display_data"
    }
   ],
   "source": [
    "#survival rate based on gender\n",
    "sns.countplot(x=\"Survived\", hue=\"Sex\", data=titanic)\n",
    "plt.title(\"Countplot of survival rate based on Gender\")\n",
    "\n",
    "# 0 = people who have not survived\n",
    "# 1 = people who survived"
   ]
  },
  {
   "cell_type": "markdown",
   "id": "874379e8",
   "metadata": {},
   "source": [
    "The above plot shows us how many people have survived based on gender with a key on the top right side of the table.<br>\n",
    "0 = people who have not survived<br>\n",
    "1 = people who survived\n",
    "<br><br>\n",
    "This bar graph shows us that many males died during the titanic (more than 400 people) and only a small persentage of females died (less than 100 people). On the survival rate more females survived (about 200 women) and only about 100 males survived."
   ]
  },
  {
   "cell_type": "code",
   "execution_count": 55,
   "id": "abf2bd18",
   "metadata": {},
   "outputs": [
    {
     "data": {
      "text/plain": [
       "Text(0.5, 1.0, 'Count plot of  people with siblings or a spouse ')"
      ]
     },
     "execution_count": 55,
     "metadata": {},
     "output_type": "execute_result"
    },
    {
     "data": {
      "image/png": "[encoded data removed]",
      "text/plain": [
       "<Figure size 432x288 with 1 Axes>"
      ]
     },
     "metadata": {
      "needs_background": "light"
     },
     "output_type": "display_data"
    }
   ],
   "source": [
    "#Bar graph of people siblings or spouse\n",
    "sns.countplot(x=\"SibSp\", data=titanic)\n",
    "plt.title(\"Countplot of  people with siblings or a spouse \")"
   ]
  },
  {
   "cell_type": "markdown",
   "id": "3ef1772b",
   "metadata": {},
   "source": [
    "The above visulization shows us the number of siblings ot spouses people had on the ship.<br>\n",
    "\n",
    "0 = no <br>\n",
    "1 = 1 sibling or spouse <br>\n",
    "2 = 2 sibling or spouse<br>\n",
    "and so on<br>\n",
    "\n",
    "Many people on the ship did not have any spouses or siblings (about 600 people) while only about 200 people had atleast 1 sibling or spouse. From thereon only a very small amount of people had 2 or more siblings or spouses which suggests there werent to many families on the ship."
   ]
  },
  {
   "cell_type": "code",
   "execution_count": 61,
   "id": "a6029974",
   "metadata": {},
   "outputs": [
    {
     "data": {
      "text/plain": [
       "Text(0.5, 1.0, 'Countplot of the number of people in different passenger classes')"
      ]
     },
     "execution_count": 61,
     "metadata": {},
     "output_type": "execute_result"
    },
    {
     "data": {
      "image/png": "[encoded data removed]",
      "text/plain": [
       "<Figure size 432x288 with 1 Axes>"
      ]
     },
     "metadata": {
      "needs_background": "light"
     },
     "output_type": "display_data"
    }
   ],
   "source": [
    "#Graph of peoples passenger class (Pclass)\n",
    "sns.countplot(x=\"Pclass\", data=titanic)\n",
    "plt.title(\"Countplot of the number of people in different passenger classes\")"
   ]
  },
  {
   "cell_type": "markdown",
   "id": "1c87b6f8",
   "metadata": {},
   "source": [
    "This graph shows us the numbers of people with the different passenger classes on the ship. The table shows us that majority of the people had a higher passenger class (Psclass 3 with about 500 people) which suggests that they were many wealth people. Followed by Psclass 1 with about 210 people and Psclass 2 with less than 200 people."
   ]
  },
  {
   "cell_type": "code",
   "execution_count": 74,
   "id": "e44d5c2a",
   "metadata": {},
   "outputs": [
    {
     "data": {
      "text/plain": [
       "Text(0.5, 1.0, 'Survival rate bassed on passenger class')"
      ]
     },
     "execution_count": 74,
     "metadata": {},
     "output_type": "execute_result"
    },
    {
     "data": {
      "image/png": "[encoded data removed]",
      "text/plain": [
       "<Figure size 432x288 with 1 Axes>"
      ]
     },
     "metadata": {
      "needs_background": "light"
     },
     "output_type": "display_data"
    }
   ],
   "source": [
    "sns.barplot(x=\"Pclass\", y=\"Survived\", data=titanic)\n",
    "plt.title(\"Survival rate bassed on passenger class\")"
   ]
  },
  {
   "cell_type": "markdown",
   "id": "1946d249",
   "metadata": {},
   "source": [
    "THis graph shows us that people with a lower passenger class had a higher survival rate while people with a higher passenger class had a lower survival rate."
   ]
  },
  {
   "cell_type": "code",
   "execution_count": 75,
   "id": "6ecd6e05",
   "metadata": {},
   "outputs": [
    {
     "data": {
      "text/plain": [
       "Text(0.5, 1.0, 'Survival rate of Gender bassed on their passenger class')"
      ]
     },
     "execution_count": 75,
     "metadata": {},
     "output_type": "execute_result"
    },
    {
     "data": {
      "image/png": "[encoded data removed]",
      "text/plain": [
       "<Figure size 432x288 with 1 Axes>"
      ]
     },
     "metadata": {
      "needs_background": "light"
     },
     "output_type": "display_data"
    }
   ],
   "source": [
    "#Survival rate of Gender bassed on their passenger class\n",
    "titanic.pivot_table(\"Survived\", index=\"Sex\", columns=\"Pclass\").plot()\n",
    "plt.title(\"Survival rate of Gender bassed on their passenger class\")"
   ]
  },
  {
   "cell_type": "markdown",
   "id": "998a7ab8",
   "metadata": {},
   "source": [
    "The above table plots the survival rate of people bassed on their passenger class, and further shows us the rate of survival bassed on your sex. <br>\n",
    "If you are a female and have a passenger class 1 you have the highest survival rate, followed by a female with a passenger class 2. If you are a male with a passenger class 3 you have the lowest survival rate followed by a male with a passenger class 2."
   ]
  },
  {
   "cell_type": "code",
   "execution_count": null,
   "id": "64abbb94",
   "metadata": {},
   "outputs": [],
   "source": []
  }
 ],
 "metadata": {
  "kernelspec": {
   "display_name": "Python 3 (ipykernel)",
   "language": "python",
   "name": "python3"
  },
  "language_info": {
   "codemirror_mode": {
    "name": "ipython",
    "version": 3
   },
   "file_extension": ".py",
   "mimetype": "text/x-python",
   "name": "python",
   "nbconvert_exporter": "python",
   "pygments_lexer": "ipython3",
   "version": "3.9.7"
  }
 },
 "nbformat": 4,
 "nbformat_minor": 5
}
